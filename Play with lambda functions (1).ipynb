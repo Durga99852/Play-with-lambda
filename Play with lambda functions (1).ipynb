{
 "cells": [
  {
   "cell_type": "code",
   "execution_count": null,
   "id": "7a45798b",
   "metadata": {},
   "outputs": [],
   "source": [
    "#Play with lambda functions"
   ]
  },
  {
   "cell_type": "code",
   "execution_count": 5,
   "id": "ed5c51df",
   "metadata": {},
   "outputs": [
    {
     "name": "stdout",
     "output_type": "stream",
     "text": [
      "35\n"
     ]
    }
   ],
   "source": [
    "r=lambda a:a+25      # the lambda keyboard used to define an anonymous function\n",
    "a=10\n",
    "print(r(a))\n",
    "r=lambda x,y:x*y       #x and y are the parameters that we pass to the lambda function"
   ]
  },
  {
   "cell_type": "code",
   "execution_count": null,
   "id": "43b15e7b",
   "metadata": {},
   "outputs": [],
   "source": []
  },
  {
   "cell_type": "raw",
   "id": "e4da9132",
   "metadata": {},
   "source": [
    "#test cases"
   ]
  },
  {
   "cell_type": "code",
   "execution_count": 6,
   "id": "0ba2d422",
   "metadata": {},
   "outputs": [
    {
     "name": "stdout",
     "output_type": "stream",
     "text": [
      "72.75\n"
     ]
    }
   ],
   "source": [
    "r=lambda a:a+2.75    # the lambda keyboard used to define an anonymous function\n",
    "a=70\n",
    "print(r(a))\n",
    "r=lambda x,y:x*y     #x and y are the parameters that we pass to the lambda function"
   ]
  },
  {
   "cell_type": "code",
   "execution_count": null,
   "id": "454725c0",
   "metadata": {},
   "outputs": [],
   "source": []
  },
  {
   "cell_type": "raw",
   "id": "0284c64d",
   "metadata": {},
   "source": [
    "#test cases"
   ]
  },
  {
   "cell_type": "code",
   "execution_count": 7,
   "id": "7031490e",
   "metadata": {},
   "outputs": [
    {
     "name": "stdout",
     "output_type": "stream",
     "text": [
      "-65\n"
     ]
    }
   ],
   "source": [
    "r=lambda a:a+(-75)     # the lambda keyboard used to define an anonymous function\n",
    "a=10\n",
    "print(r(a))\n",
    "r=lambda x,y:x*y      #x and y are the parameters that we pass to the lambda function"
   ]
  },
  {
   "cell_type": "code",
   "execution_count": null,
   "id": "c17b5727",
   "metadata": {},
   "outputs": [],
   "source": []
  },
  {
   "cell_type": "code",
   "execution_count": null,
   "id": "2792f3d9",
   "metadata": {},
   "outputs": [],
   "source": []
  },
  {
   "cell_type": "code",
   "execution_count": null,
   "id": "aad05c04",
   "metadata": {},
   "outputs": [],
   "source": []
  }
 ],
 "metadata": {
  "kernelspec": {
   "display_name": "Python 3 (ipykernel)",
   "language": "python",
   "name": "python3"
  },
  "language_info": {
   "codemirror_mode": {
    "name": "ipython",
    "version": 3
   },
   "file_extension": ".py",
   "mimetype": "text/x-python",
   "name": "python",
   "nbconvert_exporter": "python",
   "pygments_lexer": "ipython3",
   "version": "3.10.0"
  }
 },
 "nbformat": 4,
 "nbformat_minor": 5
}
